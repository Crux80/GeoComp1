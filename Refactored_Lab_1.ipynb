{
 "cells": [
  {
   "cell_type": "code",
   "execution_count": 15,
   "metadata": {},
   "outputs": [
    {
     "name": "stdout",
     "output_type": "stream",
     "text": [
      "Random Numbers: [72, 32, 98, 55, 4, 9, 92, 68, 66, 18, 16, 12, 27, 29, 32, 61, 64, 39, 22, 88]\n",
      "Mean Value: 45.20\n",
      "Variance: 863.22\n"
     ]
    }
   ],
   "source": [
    "import random\n",
    "import statistics\n",
    "\n",
    "# Generate a list of 20 random integers between 1 and 100\n",
    "random_numbers = [random.randint(1, 100) for _ in range(20)]\n",
    "\n",
    "# Compute mean and variance using comprehensions\n",
    "mean_value = sum(random_numbers) / len(random_numbers)\n",
    "variance = sum((x - mean_value) ** 2 for x in random_numbers) / (len(random_numbers) - 1)\n",
    "\n",
    "# Display results\n",
    "print(\"Random Numbers:\", random_numbers)\n",
    "print(f\"Mean Value: {mean_value:.2f}\")\n",
    "print(f\"Variance: {variance:.2f}\")"
   ]
  }
 ],
 "metadata": {
  "kernelspec": {
   "display_name": "geocomp",
   "language": "python",
   "name": "python3"
  },
  "language_info": {
   "codemirror_mode": {
    "name": "ipython",
    "version": 3
   },
   "file_extension": ".py",
   "mimetype": "text/x-python",
   "name": "python",
   "nbconvert_exporter": "python",
   "pygments_lexer": "ipython3",
   "version": "3.9.21"
  }
 },
 "nbformat": 4,
 "nbformat_minor": 2
}
