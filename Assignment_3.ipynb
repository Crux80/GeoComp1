{
 "cells": [
  {
   "cell_type": "code",
   "execution_count": 2,
   "metadata": {},
   "outputs": [
    {
     "name": "stdout",
     "output_type": "stream",
     "text": [
      "['u38zmqzl0a', 'melctwvjke', 'twpbvbfo8w', 'o0500yx5ym', 'qrsnxjrl58', 'l4hf8rkurs', 'xczl4nl8wc', 'bdl6rsdquv', 'tjwycavt5m', 'ogzb0e5ajr']\n"
     ]
    }
   ],
   "source": [
    "#Professor's Code\n",
    "import random\n",
    "import string\n",
    "\n",
    "s = string.ascii_lowercase + string.digits\n",
    "n = 100200\n",
    "payee_ids = [None]*n\n",
    "\n",
    "# set the random seed, so results are replicable\n",
    "random.seed( 1090 )\n",
    "\n",
    "for i in range(n):\n",
    "    payee_ids[i] = ''.join(random.choice(s) for _ in range(10))\n",
    "\n",
    "# Using list comprehensions would be much more concise.\n",
    "# But this is little bit hard to understand as it has two layers of list comprehensions\n",
    "# payee_ids = [''.join(random.choice(s) for i in range(10)) for _ in range(n)]\n",
    "\n",
    "# Exclude any possible duplicates (extremely unlikely, but possible)\n",
    "payee_ids = list(set(payee_ids))[0:100000]\n",
    "\n",
    "print(payee_ids[0:10])"
   ]
  },
  {
   "cell_type": "code",
   "execution_count": 3,
   "metadata": {},
   "outputs": [
    {
     "name": "stdout",
     "output_type": "stream",
     "text": [
      "\n",
      "Index: 0, ID: loyaxl46oh, Time: 2023/09/01 06:45PM, Friday\n",
      "\n",
      "Index: 1, ID: 5i49cvo94d, Time: 2023/09/02 07:43PM, Saturday\n",
      "\n",
      "Index: 2, ID: cs4rrqwa3e, Time: 2023/09/03 05:44AM, Sunday\n",
      "\n",
      "Index: 3, ID: 87gmk55w19, Time: 2023/09/03 03:59PM, Sunday\n",
      "\n",
      "Index: 4, ID: qsp83n14c1, Time: 2023/09/05 12:40AM, Tuesday\n",
      "\n",
      "Index: 5, ID: gwglw2os5j, Time: 2023/09/06 06:44PM, Wednesday\n",
      "\n",
      "Index: 6, ID: kbiawo6stu, Time: 2023/09/07 05:54AM, Thursday\n",
      "\n",
      "Index: 7, ID: h6864sswel, Time: 2023/09/07 08:20AM, Thursday\n",
      "\n",
      "Index: 8, ID: uw5jm18cgi, Time: 2023/09/07 06:25PM, Thursday\n",
      "\n",
      "Index: 9, ID: nrm8c9lk0y, Time: 2023/09/08 04:27AM, Friday\n"
     ]
    }
   ],
   "source": [
    "#Professor's Code\n",
    "# import datetime and timedelta classes from the datetime module\n",
    "from datetime import datetime, timedelta\n",
    "\n",
    "fDate = datetime(2023, 9, 1)\n",
    "tDate = datetime(2023, 11, 25)\n",
    "\n",
    "dd = (tDate - fDate).days\n",
    "nn = round(len(payee_ids)*dd*2.5) # on average, each payee makes two and half trips.\n",
    "\n",
    "# This line should be removed or commented out for the final run.\n",
    "nn = 100 # this number is used to debug the code. \n",
    "\n",
    "# the time during the day does not really matter for OMNY rules. We just set it to a random number between 5 to 23.\n",
    "payTime = [fDate + timedelta(days = random.uniform(0, dd), \\\n",
    "                             hours = random.choice(range(5,24)), \\\n",
    "                             minutes = random.choice(range(0, 60)), \\\n",
    "                             seconds=random.choice(range(0, 60))) for _ in range(nn)]\n",
    "\n",
    "payees = random.choices(payee_ids, weights=[abs(random.normalvariate(0,1)) for _ in range(len(payee_ids))], k=nn)\n",
    "\n",
    "simData = [list(x) for x in zip(payees, payTime)]\n",
    "# Sort according to the time, from early to late.\n",
    "simSData = sorted(simData, key= lambda z: z[1])\n",
    "\n",
    "# Print the top 10 rows\n",
    "for k in range(10):\n",
    "    print()\n",
    "    print(\"Index: {}, ID: {}, Time: {}\".format(k, simSData[k][0], \"\" + simSData[k][1].strftime(\"%Y/%m/%d %I:%M%p, %A\")))"
   ]
  },
  {
   "cell_type": "code",
   "execution_count": 4,
   "metadata": {},
   "outputs": [
    {
     "name": "stdout",
     "output_type": "stream",
     "text": [
      "\n",
      "Index: 0, ID: loyaxl46oh, Time: 2023/09/01 06:45PM, Friday, Charge: $0.0\n",
      "\n",
      "Index: 1, ID: 5i49cvo94d, Time: 2023/09/02 07:43PM, Saturday, Charge: $0.0\n",
      "\n",
      "Index: 2, ID: cs4rrqwa3e, Time: 2023/09/03 05:44AM, Sunday, Charge: $2.9\n",
      "\n",
      "Index: 3, ID: 87gmk55w19, Time: 2023/09/03 03:59PM, Sunday, Charge: $0.0\n",
      "\n",
      "Index: 4, ID: qsp83n14c1, Time: 2023/09/05 12:40AM, Tuesday, Charge: $2.9\n",
      "\n",
      "Index: 5, ID: gwglw2os5j, Time: 2023/09/06 06:44PM, Wednesday, Charge: $2.9\n",
      "\n",
      "Index: 6, ID: kbiawo6stu, Time: 2023/09/07 05:54AM, Thursday, Charge: $2.9\n",
      "\n",
      "Index: 7, ID: h6864sswel, Time: 2023/09/07 08:20AM, Thursday, Charge: $2.9\n",
      "\n",
      "Index: 8, ID: uw5jm18cgi, Time: 2023/09/07 06:25PM, Thursday, Charge: $0.0\n",
      "\n",
      "Index: 9, ID: nrm8c9lk0y, Time: 2023/09/08 04:27AM, Friday, Charge: $0.0\n"
     ]
    }
   ],
   "source": [
    "#Professor's Code\n",
    "for k in range(10):\n",
    "    print()\n",
    "    print(\"Index: {}, ID: {}, Time: {}, Charge: ${}\".format(k, \n",
    "        simSData[k][0], \n",
    "        \"\" + simSData[k][1].strftime(\"%Y/%m/%d %I:%M%p, %A\"), \n",
    "        random.choice([2.90, 0.00]) # This random value should be replaced by values from your algorithm.\n",
    "    ))"
   ]
  },
  {
   "cell_type": "code",
   "execution_count": null,
   "metadata": {},
   "outputs": [
    {
     "name": "stdout",
     "output_type": "stream",
     "text": [
      "Index: 0, ID: lamj6h3sot, Time: 2023/09/01 06:45PM, Friday, Charge: True\n",
      "Index: 1, ID: 9v3r8fcuy1, Time: 2023/09/02 07:43PM, Saturday, Charge: True\n",
      "Index: 2, ID: eeec21otxb, Time: 2023/09/03 05:44AM, Sunday, Charge: True\n",
      "Index: 3, ID: 78bf8nfkgn, Time: 2023/09/03 03:59PM, Sunday, Charge: True\n",
      "Index: 4, ID: e6p5z72rb5, Time: 2023/09/05 12:40AM, Tuesday, Charge: True\n",
      "Index: 5, ID: vti6m0aoz1, Time: 2023/09/06 06:44PM, Wednesday, Charge: True\n",
      "Index: 6, ID: wbx919zplh, Time: 2023/09/07 05:54AM, Thursday, Charge: True\n",
      "Index: 7, ID: fql3qs0wtx, Time: 2023/09/07 08:20AM, Thursday, Charge: True\n",
      "Index: 8, ID: puu0ln55b4, Time: 2023/09/07 06:25PM, Thursday, Charge: True\n",
      "Index: 9, ID: v26li4i9h8, Time: 2023/09/08 04:27AM, Friday, Charge: True\n"
     ]
    }
   ],
   "source": [
    "# My addon using a Boolean and a Double Ended Queue\n",
    "from collections import deque\n",
    "from datetime import datetime, timedelta\n",
    "\n",
    "# Function to determine whether to charge a fare or provide a free ride\n",
    "def determine_fare(transactions):\n",
    "    payee_history = {}  # Dictionary to store the last 7 days of transactions for each payee\n",
    "    fares = []  # List to store the results (payee_id, timestamp, fare decision)\n",
    "    \n",
    "    for payee_id, pay_time in transactions:\n",
    "        if payee_id not in payee_history:\n",
    "            payee_history[payee_id] = deque()  # Initialize a deque for the payee to store timestamps\n",
    "        \n",
    "        # Remove trips that are older than 7 days from the deque\n",
    "        while payee_history[payee_id] and pay_time - payee_history[payee_id][0] > timedelta(days=7):\n",
    "            payee_history[payee_id].popleft()\n",
    "        \n",
    "        # Check if the payee has already reached 12 paid trips in the last 7 days\n",
    "        is_free = len(payee_history[payee_id]) >= 12\n",
    "        fares.append((payee_id, pay_time, not is_free))  # True if chargeable, False if free\n",
    "        \n",
    "        if not is_free:\n",
    "            payee_history[payee_id].append(pay_time)  # Store the current transaction timestamp\n",
    "    \n",
    "    return fares  # Return the list of transactions with applicable fares\n",
    "\n",
    "# Example usage with simulated data\n",
    "simulated_fares = determine_fare(simSData)\n",
    "\n",
    "# Print the top 10 results\n",
    "for k in range(10):\n",
    "    print(\"Index: {}, ID: {}, Time: {}, Charge: {}\".format(\n",
    "        k,\n",
    "        simulated_fares[k][0],  # Payee ID\n",
    "        simulated_fares[k][1].strftime(\"%Y/%m/%d %I:%M%p, %A\"),  # Payment timestamp\n",
    "        simulated_fares[k][2]  # Boolean value (True = Charged, False = Free)\n",
    "    ))\n"
   ]
  }
 ],
 "metadata": {
  "kernelspec": {
   "display_name": "geocomp",
   "language": "python",
   "name": "python3"
  },
  "language_info": {
   "codemirror_mode": {
    "name": "ipython",
    "version": 3
   },
   "file_extension": ".py",
   "mimetype": "text/x-python",
   "name": "python",
   "nbconvert_exporter": "python",
   "pygments_lexer": "ipython3",
   "version": "3.9.21"
  }
 },
 "nbformat": 4,
 "nbformat_minor": 2
}
