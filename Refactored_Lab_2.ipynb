{
 "cells": [
  {
   "cell_type": "code",
   "execution_count": 2,
   "metadata": {},
   "outputs": [
    {
     "ename": "FileNotFoundError",
     "evalue": "[Errno 2] No such file or directory: 'gz_2010_us_050_00_5m.json'",
     "output_type": "error",
     "traceback": [
      "\u001b[1;31m---------------------------------------------------------------------------\u001b[0m",
      "\u001b[1;31mFileNotFoundError\u001b[0m                         Traceback (most recent call last)",
      "Cell \u001b[1;32mIn[2], line 4\u001b[0m\n\u001b[0;32m      1\u001b[0m \u001b[38;5;28;01mimport\u001b[39;00m\u001b[38;5;250m \u001b[39m\u001b[38;5;21;01mjson\u001b[39;00m\n\u001b[0;32m      3\u001b[0m \u001b[38;5;66;03m# Load the GeoJSON data from file\u001b[39;00m\n\u001b[1;32m----> 4\u001b[0m \u001b[38;5;28;01mwith\u001b[39;00m \u001b[38;5;28;43mopen\u001b[39;49m\u001b[43m(\u001b[49m\u001b[38;5;124;43m\"\u001b[39;49m\u001b[38;5;124;43mgz_2010_us_050_00_5m.json\u001b[39;49m\u001b[38;5;124;43m\"\u001b[39;49m\u001b[43m,\u001b[49m\u001b[43m \u001b[49m\u001b[38;5;124;43m'\u001b[39;49m\u001b[38;5;124;43mr\u001b[39;49m\u001b[38;5;124;43m'\u001b[39;49m\u001b[43m)\u001b[49m \u001b[38;5;28;01mas\u001b[39;00m f:\n\u001b[0;32m      5\u001b[0m     data \u001b[38;5;241m=\u001b[39m json\u001b[38;5;241m.\u001b[39mload(f)\n\u001b[0;32m      7\u001b[0m \u001b[38;5;66;03m# Extract features (list of county data)\u001b[39;00m\n",
      "File \u001b[1;32mc:\\Users\\xrcru\\anaconda3\\envs\\geocomp\\lib\\site-packages\\IPython\\core\\interactiveshell.py:310\u001b[0m, in \u001b[0;36m_modified_open\u001b[1;34m(file, *args, **kwargs)\u001b[0m\n\u001b[0;32m    303\u001b[0m \u001b[38;5;28;01mif\u001b[39;00m file \u001b[38;5;129;01min\u001b[39;00m {\u001b[38;5;241m0\u001b[39m, \u001b[38;5;241m1\u001b[39m, \u001b[38;5;241m2\u001b[39m}:\n\u001b[0;32m    304\u001b[0m     \u001b[38;5;28;01mraise\u001b[39;00m \u001b[38;5;167;01mValueError\u001b[39;00m(\n\u001b[0;32m    305\u001b[0m         \u001b[38;5;124mf\u001b[39m\u001b[38;5;124m\"\u001b[39m\u001b[38;5;124mIPython won\u001b[39m\u001b[38;5;124m'\u001b[39m\u001b[38;5;124mt let you open fd=\u001b[39m\u001b[38;5;132;01m{\u001b[39;00mfile\u001b[38;5;132;01m}\u001b[39;00m\u001b[38;5;124m by default \u001b[39m\u001b[38;5;124m\"\u001b[39m\n\u001b[0;32m    306\u001b[0m         \u001b[38;5;124m\"\u001b[39m\u001b[38;5;124mas it is likely to crash IPython. If you know what you are doing, \u001b[39m\u001b[38;5;124m\"\u001b[39m\n\u001b[0;32m    307\u001b[0m         \u001b[38;5;124m\"\u001b[39m\u001b[38;5;124myou can use builtins\u001b[39m\u001b[38;5;124m'\u001b[39m\u001b[38;5;124m open.\u001b[39m\u001b[38;5;124m\"\u001b[39m\n\u001b[0;32m    308\u001b[0m     )\n\u001b[1;32m--> 310\u001b[0m \u001b[38;5;28;01mreturn\u001b[39;00m io_open(file, \u001b[38;5;241m*\u001b[39margs, \u001b[38;5;241m*\u001b[39m\u001b[38;5;241m*\u001b[39mkwargs)\n",
      "\u001b[1;31mFileNotFoundError\u001b[0m: [Errno 2] No such file or directory: 'gz_2010_us_050_00_5m.json'"
     ]
    }
   ],
   "source": [
    "import json\n",
    "\n",
    "# Load the GeoJSON data from file\n",
    "with open(\"gz_2010_us_050_00_5m.json\", 'r') as f:\n",
    "    data = json.load(f)\n",
    "\n",
    "# Extract features (list of county data)\n",
    "feature_list = data['features']\n",
    "\n",
    "# TASK 1: Basic Summary Statistics\n",
    "print(f\"Number of Counties in US: {len(feature_list)}\")\n",
    "print(f\"The second feature name is {feature_list[1]['properties']['NAME']}\")"
   ]
  },
  {
   "cell_type": "code",
   "execution_count": null,
   "metadata": {},
   "outputs": [],
   "source": [
    "# TASK 2: Finding Unique County Names and Most Common County Names\n",
    "unique_counties = {feature['properties']['NAME'] for feature in feature_list}\n",
    "print(f\"Total unique county names: {len(unique_counties)}\")\n",
    "\n",
    "# Dictionary to count occurrences of county names and track associated states\n",
    "county_counts = {}\n",
    "county_states = {}\n",
    "\n",
    "for feature in feature_list:\n",
    "    name = feature['properties']['NAME']\n",
    "    state = feature['properties']['STATE']\n",
    "    \n",
    "    # Initialize dictionary entries if not present\n",
    "    county_counts.setdefault(name, 0)\n",
    "    county_states.setdefault(name, set())\n",
    "    \n",
    "    # Update counts and state tracking\n",
    "    county_counts[name] += 1\n",
    "    county_states[name].add(state)\n",
    "\n",
    "# Sort counties by frequency in descending order and get the top 3\n",
    "sorted_counties = sorted(county_counts.items(), key=lambda item: item[1], reverse=True)[:3]\n",
    "\n",
    "print(\"Top 3 most common county names:\")\n",
    "for name, count in sorted_counties:\n",
    "    print(f\"{name}: {count} occurrences in states {county_states[name]}\")\n"
   ]
  },
  {
   "cell_type": "code",
   "execution_count": null,
   "metadata": {},
   "outputs": [],
   "source": [
    "# TASK 3: State-wise County Statistics\n",
    "state_data = {}\n",
    "\n",
    "for feature in feature_list:\n",
    "    state = feature['properties']['STATE']\n",
    "    county_name = feature['properties']['NAME']\n",
    "    area = feature['properties']['CENSUSAREA']\n",
    "    \n",
    "    # Initialize state tracking if not present\n",
    "    if state not in state_data:\n",
    "        state_data[state] = {\n",
    "            'counties': 0,\n",
    "            'total_area': 0,\n",
    "            'largest': (None, 0),\n",
    "            'smallest': (None, float('inf'))\n",
    "        }\n",
    "    \n",
    "    # Update county count and total area\n",
    "    state_data[state]['counties'] += 1\n",
    "    state_data[state]['total_area'] += area\n",
    "    \n",
    "    # Track largest and smallest counties by area\n",
    "    if area > state_data[state]['largest'][1]:\n",
    "        state_data[state]['largest'] = (county_name, area)\n",
    "    \n",
    "    if area < state_data[state]['smallest'][1]:\n",
    "        state_data[state]['smallest'] = (county_name, area)\n",
    "\n",
    "# Print statistics per state\n",
    "for state, stats in state_data.items():\n",
    "    avg_area = stats['total_area'] / stats['counties']\n",
    "    print(f\"State {state}: {stats['counties']} counties\")\n",
    "    print(f\"  Largest: {stats['largest'][0]} ({stats['largest'][1]} sq mi)\")\n",
    "    print(f\"  Smallest: {stats['smallest'][0]} ({stats['smallest'][1]} sq mi)\")\n",
    "    print(f\"  Total area: {stats['total_area']} sq mi, Average area: {avg_area:.2f} sq mi\\n\")\n"
   ]
  }
 ],
 "metadata": {
  "kernelspec": {
   "display_name": "geocomp",
   "language": "python",
   "name": "python3"
  },
  "language_info": {
   "codemirror_mode": {
    "name": "ipython",
    "version": 3
   },
   "file_extension": ".py",
   "mimetype": "text/x-python",
   "name": "python",
   "nbconvert_exporter": "python",
   "pygments_lexer": "ipython3",
   "version": "3.9.21"
  }
 },
 "nbformat": 4,
 "nbformat_minor": 2
}
