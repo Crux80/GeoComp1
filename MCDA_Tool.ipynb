{
 "cells": [
  {
   "cell_type": "code",
   "execution_count": null,
   "metadata": {},
   "outputs": [],
   "source": [
    "import arcpy\n",
    "from arcpy.sa import *"
   ]
  },
  {
   "cell_type": "code",
   "execution_count": null,
   "metadata": {},
   "outputs": [],
   "source": [
    "def mcda_analysis(input_rasters, weights, output_raster):\n",
    "    \"\"\"\n",
    "    Perform Multi-Criteria Decision Analysis (MCDA) using weighted overlay.\n",
    "    \n",
    "    :param input_rasters: List of input raster file paths.\n",
    "    :param weights: List of corresponding weights for each raster.\n",
    "    :param output_raster: Output raster file path.\n",
    "    \"\"\"\n",
    "    if len(input_rasters) != len(weights):\n",
    "        raise ValueError(\"Number of rasters and weights must match.\")\n",
    "    \n",
    "    arcpy.CheckOutExtension(\"Spatial\")\n",
    "    \n",
    "    # Convert input rasters to Raster objects and apply weights\n",
    "    weighted_sum = sum(Raster(raster) * weight for raster, weight in zip(input_rasters, weights))\n",
    "    \n",
    "    # Save the resulting raster\n",
    "    weighted_sum.save(output_raster)\n",
    "    \n",
    "    arcpy.CheckInExtension(\"Spatial\")\n",
    "    print(f\"MCDA analysis completed. Output saved to {output_raster}\")\n",
    "\n"
   ]
  },
  {
   "cell_type": "code",
   "execution_count": null,
   "metadata": {},
   "outputs": [],
   "source": [
    "if __name__ == \"__main__\":\n",
    "    # Example usage\n",
    "    arcpy.env.workspace = \"C:/path/to/your/workspace\"  # Set the workspace directory\n",
    "    arcpy.env.overwriteOutput = True  # Allow overwriting existing files\n",
    "    \n",
    "    input_rasters = [\"C:/path/to/landuse.tif\", \"C:/path/to/elevation.tif\", \"C:/path/to/proximity_to_water.tif\"]\n",
    "    weights = [0.4, 0.3, 0.3]  # Adjust based on importance\n",
    "    output_raster = \"C:/path/to/output/mcda_result.tif\"\n",
    "    \n",
    "    mcda_analysis(input_rasters, weights, output_raster)\n",
    "\n"
   ]
  },
  {
   "cell_type": "code",
   "execution_count": null,
   "metadata": {},
   "outputs": [],
   "source": [
    "\"\"\"\n",
    "To run this script, you need:\n",
    "- ArcGIS Pro installed with an active Spatial Analyst extension.\n",
    "- The arcpy package available in your Python environment.\n",
    "- Input raster datasets stored at the specified paths.\n",
    "- Adjusted weights based on criteria importance.\n",
    "- A valid workspace directory where the output can be saved.\n",
    "\n",
    "Update file paths accordingly before executing the script.\n",
    "\"\"\""
   ]
  }
 ],
 "metadata": {
  "language_info": {
   "name": "python"
  }
 },
 "nbformat": 4,
 "nbformat_minor": 2
}
